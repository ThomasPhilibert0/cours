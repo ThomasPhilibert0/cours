{
 "cells": [
  {
   "cell_type": "markdown",
   "metadata": {},
   "source": [
    "# Équation de l'élasticité linéaire"
   ]
  },
  {
   "cell_type": "markdown",
   "metadata": {},
   "source": [
    "Le but de cette section est de résoudre l'équation aux dérivées partielles relative à l'étude de l'élasticité linéaire. Cela nous permettra de pouvoir décrire ce qu'il se passe quand on applique une force à un corps. \n",
    "\n",
    "Pour cela, nous ne détaillerons pas l'intégralité des éléments vus lors des premières séances de ce cours. Nous allons commencer par développer certains éléments mathématiques dont nous avons besoin. Nous nous plaçons dans un espace de dimension 2 où $u = (u_1 , u_2)$ correspond au point après déformation de l'objet. Nous avons par la suite défini le $\\textbf{tenseur de Cauchy}$ (ou de contraintes?) $\\tau_{i,j} = \\{ \\sigma_{i,j} \\}$ et démontré que : \n",
    "\n",
    "$$ \\sigma_{i,j} = \\lambda  (e_{nn}) \\delta_{i,j} + 2 \\mu  e_{i,j}$$ \n",
    "\n",
    "où $\\delta_{i,j} = \\left\\{ \\begin{array}{ll} 1 &\\mbox{ si } i = j \\\\ 0 &\\mbox{sinon} \\end{array} \\right.$ et $\\lambda$ et $\\mu$ sont appelés les coefficients de Lamé. \n",
    "\n",
    "Finalement, $e$ est appelé le $\\textbf{tenseur de déformation}$, et défini de la manière suivante : \n",
    "\n",
    "$$ e_{i,j} = \\dfrac{1}{2} \\left( \\dfrac{\\partial u_i}{\\partial x_j} + \\dfrac{\\partial u_j}{\\partial x_i} \\right) $$\n",
    "\n",
    "Le tenseur de déformation est une matrice symétrique , diagonalisable avec des valeurs propres réelles.\n",
    "\n",
    "De plus, la définition d'équilibre (somme des forces appliquées en un point est nulle) nous montre que, si l'on note $F = \\{ F_i\\}$ la force extérieure par unité de surface, on obtient l'équation suivante : \n",
    "\n",
    "$$ \\dfrac{\\partial \\sigma_{i,j} }{\\partial x_j} + F_i = 0$$\n",
    "\n",
    "On peut donc essayer de résoudre cette équation en commençant par décrire les $\\sigma_{i,j}$ :\n",
    "\n",
    "- $\\sigma_{1,1} = \\lambda \\left(\\dfrac{\\partial u_1}{\\partial x_1}+\\dfrac{\\partial u_2}{\\partial x_2}\\right) + \\mu \\dfrac{\\partial u_1}{\\partial x_1}$\n",
    "- $\\sigma_{2,2} = \\lambda \\left(\\dfrac{\\partial u_1}{\\partial x_1}+\\dfrac{\\partial u_2}{\\partial x_2}\\right) + \\mu \\dfrac{\\partial u_2}{\\partial x_2}$\n",
    "- $\\sigma_{1,2} = \\sigma_{2,1} = \\mu e_{1,2} = \\dfrac{1}{2} \\mu \\left(\\dfrac{\\partial u_1}{\\partial x_2}+\\dfrac{\\partial u_2}{\\partial x_1} \\right)$\n",
    "\n",
    "On obtient alors deux équations dont la première se développe de la façon suivante : \n",
    "\n",
    "\\begin{align*}\n",
    "&\\Longrightarrow \\dfrac{ \\partial \\sigma_{1,j}}{\\partial x_j} + F_1 &= 0 \\\\\n",
    "&\\Longleftrightarrow \\dfrac{ \\partial \\sigma_{1,1}}{\\partial x_1} + \\dfrac{ \\partial \\sigma_{1,2}}{\\partial x_2} + F_1 &= 0 \\\\\n",
    "&\\Longleftrightarrow  \\lambda \\left( \\dfrac{\\partial^2 u_1}{\\partial^2 x_1}+\\dfrac{\\partial^2 u_2}{\\partial x_1 \\partial x_2}\\right) + 2 \\mu \\dfrac{\\partial^2 u_1}{\\partial^2 x_1} + \\mu \\left(\\dfrac{\\partial^2 u_1}{\\partial^2 x_2}+\\dfrac{\\partial^2 u_2}{\\partial x_2 \\partial x_1} \\right)+ F_1 &= 0  \\\\\n",
    "&\\Longleftrightarrow \\mu \\left( \\dfrac{\\partial^2 u_1}{\\partial^2 x_1} +  \\dfrac{\\partial^2 u_1}{\\partial^2 x_2}\\right) + \\left( \\lambda + \\mu \\right) \\left( \\dfrac{\\partial^2 u_1}{\\partial^2 x_2}+\\dfrac{\\partial^2 u_2}{\\partial x_1 \\partial x_2} \\right) + F_1 &= 0 \\\\\n",
    "&\\Longleftrightarrow \\mu \\Delta u_1 + \\left(\\lambda + \\mu\\right)\\left(\\dfrac{\\partial^2 u_1}{\\partial^2 x_1}+\\dfrac{\\partial^2 u_2}{\\partial x_1 \\partial x_2} \\right) + F_1 &= 0\n",
    "\\end{align*}\n",
    "\n",
    "Si l'on pose $\\delta = \\dfrac{\\lambda + \\mu}{\\mu}$ et $\\tilde{F_i} = \\dfrac{F_i}{\\mu}$ on obtient : \n",
    "\n",
    "$$ \\Delta u_1 + \\delta \\left( \\dfrac{\\partial^2 u_1}{\\partial^2 x_1}+\\dfrac{\\partial^2 u_2}{\\partial x_1 \\partial x_2}  \\right)  = - \\tilde{F_1}$$\n",
    "\n",
    "En procédent de même on obtient la seconde équation : \n",
    "\n",
    "$$ \\Delta u_2 + \\delta \\left( \\dfrac{\\partial^2 u_2}{\\partial^2 x_2}+\\dfrac{\\partial^2 u_1}{\\partial x_1 \\partial x_2}  \\right)  = - \\tilde{F_2}$$\n",
    "\n"
   ]
  },
  {
   "cell_type": "code",
   "execution_count": null,
   "metadata": {},
   "outputs": [],
   "source": []
  }
 ],
 "metadata": {
  "kernelspec": {
   "display_name": "Python 3",
   "language": "python",
   "name": "python3"
  },
  "language_info": {
   "codemirror_mode": {
    "name": "ipython",
    "version": 3
   },
   "file_extension": ".py",
   "mimetype": "text/x-python",
   "name": "python",
   "nbconvert_exporter": "python",
   "pygments_lexer": "ipython3",
   "version": "3.7.1"
  }
 },
 "nbformat": 4,
 "nbformat_minor": 2
}
